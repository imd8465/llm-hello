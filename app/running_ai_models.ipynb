{
 "cells": [
  {
   "cell_type": "markdown",
   "metadata": {},
   "source": [
    "Install Replicate’s Python client library"
   ]
  },
  {
   "cell_type": "code",
   "execution_count": 1,
   "metadata": {},
   "outputs": [
    {
     "name": "stdout",
     "output_type": "stream",
     "text": [
      "Requirement already satisfied: replicate in /opt/homebrew/Caskroom/miniforge/base/envs/llmops-course/lib/python3.11/site-packages (1.0.4)\n",
      "Requirement already satisfied: httpx<1,>=0.21.0 in /opt/homebrew/Caskroom/miniforge/base/envs/llmops-course/lib/python3.11/site-packages (from replicate) (0.28.1)\n",
      "Requirement already satisfied: packaging in /opt/homebrew/Caskroom/miniforge/base/envs/llmops-course/lib/python3.11/site-packages (from replicate) (23.2)\n",
      "Requirement already satisfied: pydantic>1.10.7 in /opt/homebrew/Caskroom/miniforge/base/envs/llmops-course/lib/python3.11/site-packages (from replicate) (2.10.1)\n",
      "Requirement already satisfied: typing_extensions>=4.5.0 in /opt/homebrew/Caskroom/miniforge/base/envs/llmops-course/lib/python3.11/site-packages (from replicate) (4.12.2)\n",
      "Requirement already satisfied: anyio in /opt/homebrew/Caskroom/miniforge/base/envs/llmops-course/lib/python3.11/site-packages (from httpx<1,>=0.21.0->replicate) (3.7.1)\n",
      "Requirement already satisfied: certifi in /opt/homebrew/Caskroom/miniforge/base/envs/llmops-course/lib/python3.11/site-packages (from httpx<1,>=0.21.0->replicate) (2024.8.30)\n",
      "Requirement already satisfied: httpcore==1.* in /opt/homebrew/Caskroom/miniforge/base/envs/llmops-course/lib/python3.11/site-packages (from httpx<1,>=0.21.0->replicate) (1.0.7)\n",
      "Requirement already satisfied: idna in /opt/homebrew/Caskroom/miniforge/base/envs/llmops-course/lib/python3.11/site-packages (from httpx<1,>=0.21.0->replicate) (3.10)\n",
      "Requirement already satisfied: h11<0.15,>=0.13 in /opt/homebrew/Caskroom/miniforge/base/envs/llmops-course/lib/python3.11/site-packages (from httpcore==1.*->httpx<1,>=0.21.0->replicate) (0.14.0)\n",
      "Requirement already satisfied: annotated-types>=0.6.0 in /opt/homebrew/Caskroom/miniforge/base/envs/llmops-course/lib/python3.11/site-packages (from pydantic>1.10.7->replicate) (0.7.0)\n",
      "Requirement already satisfied: pydantic-core==2.27.1 in /opt/homebrew/Caskroom/miniforge/base/envs/llmops-course/lib/python3.11/site-packages (from pydantic>1.10.7->replicate) (2.27.1)\n",
      "Requirement already satisfied: sniffio>=1.1 in /opt/homebrew/Caskroom/miniforge/base/envs/llmops-course/lib/python3.11/site-packages (from anyio->httpx<1,>=0.21.0->replicate) (1.3.1)\n",
      "Note: you may need to restart the kernel to use updated packages.\n"
     ]
    }
   ],
   "source": [
    "%pip install replicate"
   ]
  },
  {
   "cell_type": "markdown",
   "metadata": {},
   "source": [
    "Set the Replicate API Tocken and import library"
   ]
  },
  {
   "cell_type": "code",
   "execution_count": null,
   "metadata": {},
   "outputs": [],
   "source": [
    "import os\n",
    "import replicate\n",
    "\n",
    "if not os.environ.get(\"REPLICATE_API_TOKEN\"):\n",
    "  os.environ[\"REPLICATE_API_TOKEN\"] = getpass.getpass(\"Enter Replicate API Token: \")"
   ]
  },
  {
   "cell_type": "markdown",
   "metadata": {},
   "source": [
    "Let us run the music generation model"
   ]
  },
  {
   "cell_type": "markdown",
   "metadata": {},
   "source": []
  },
  {
   "cell_type": "code",
   "execution_count": null,
   "metadata": {},
   "outputs": [],
   "source": [
    "output = replicate.run(\n",
    "    \"imd8465/igorone:63baaf8a609852dfa8ef5923e4adbd316043e951ea6cdf15cf0afa2c366523b2\",\n",
    "    input={\n",
    "        \"model\": \"dev\",\n",
    "        \"prompt\": \"Igor is a Principal Software Engineer explaining the LLM technology with excitement.\",\n",
    "        \"go_fast\": False,\n",
    "        \"lora_scale\": 1,\n",
    "        \"megapixels\": \"1\",\n",
    "        \"num_outputs\": 3,\n",
    "        \"aspect_ratio\": \"16:9\",\n",
    "        \"output_format\": \"webp\",\n",
    "        \"guidance_scale\": 3,\n",
    "        \"output_quality\": 80,\n",
    "        \"prompt_strength\": 0.8,\n",
    "        \"extra_lora_scale\": 1,\n",
    "        \"num_inference_steps\": 28\n",
    "    }\n",
    ")\n",
    "print(output)"
   ]
  }
 ],
 "metadata": {
  "kernelspec": {
   "display_name": "llmops-course",
   "language": "python",
   "name": "python3"
  },
  "language_info": {
   "codemirror_mode": {
    "name": "ipython",
    "version": 3
   },
   "file_extension": ".py",
   "mimetype": "text/x-python",
   "name": "python",
   "nbconvert_exporter": "python",
   "pygments_lexer": "ipython3",
   "version": "3.11.11"
  }
 },
 "nbformat": 4,
 "nbformat_minor": 2
}
