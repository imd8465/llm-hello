{
 "cells": [
  {
   "cell_type": "markdown",
   "metadata": {},
   "source": [
    "Install Replicate’s Python client library"
   ]
  },
  {
   "cell_type": "code",
   "execution_count": null,
   "metadata": {},
   "outputs": [],
   "source": [
    "%pip install replicate"
   ]
  },
  {
   "cell_type": "markdown",
   "metadata": {},
   "source": [
    "Set the Replicate API Tocken and import library"
   ]
  },
  {
   "cell_type": "code",
   "execution_count": null,
   "metadata": {},
   "outputs": [],
   "source": [
    "import os\n",
    "import replicate\n",
    "\n",
    "os.environ[\"REPLICATE_API_TOKEN\"] = \"r8_1e73QrzIzyX1Ih0KahDQ3WsZMthw8nU2KkQ9m\""
   ]
  },
  {
   "cell_type": "markdown",
   "metadata": {},
   "source": [
    "Let us run the music generation model"
   ]
  },
  {
   "cell_type": "markdown",
   "metadata": {},
   "source": []
  },
  {
   "cell_type": "code",
   "execution_count": null,
   "metadata": {},
   "outputs": [],
   "source": [
    "output = replicate.run(\n",
    "    \"imd8465/igorone:63baaf8a609852dfa8ef5923e4adbd316043e951ea6cdf15cf0afa2c366523b2\",\n",
    "    input={\n",
    "        \"model\": \"dev\",\n",
    "        \"prompt\": \"Igor is a Principal Software Engineer explaining the LLM technology with excitement.\",\n",
    "        \"go_fast\": False,\n",
    "        \"lora_scale\": 1,\n",
    "        \"megapixels\": \"1\",\n",
    "        \"num_outputs\": 3,\n",
    "        \"aspect_ratio\": \"16:9\",\n",
    "        \"output_format\": \"webp\",\n",
    "        \"guidance_scale\": 3,\n",
    "        \"output_quality\": 80,\n",
    "        \"prompt_strength\": 0.8,\n",
    "        \"extra_lora_scale\": 1,\n",
    "        \"num_inference_steps\": 28\n",
    "    }\n",
    ")\n",
    "print(output)"
   ]
  }
 ],
 "metadata": {
  "kernelspec": {
   "display_name": "llmops-course",
   "language": "python",
   "name": "python3"
  },
  "language_info": {
   "codemirror_mode": {
    "name": "ipython",
    "version": 3
   },
   "file_extension": ".py",
   "mimetype": "text/x-python",
   "name": "python",
   "nbconvert_exporter": "python",
   "pygments_lexer": "ipython3",
   "version": "3.11.11"
  }
 },
 "nbformat": 4,
 "nbformat_minor": 2
}
